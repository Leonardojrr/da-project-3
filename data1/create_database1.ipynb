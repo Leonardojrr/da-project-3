{
 "cells": [
  {
   "cell_type": "code",
   "execution_count": 3,
   "id": "aded8c41-14e5-489a-87eb-db4482675eb9",
   "metadata": {},
   "outputs": [],
   "source": [
    "import sqlite3\n",
    "import pandas as pd\n",
    "import matplotlib.pyplot as plt\n",
    "import folium\n",
    "from folium.plugins import HeatMap\n",
    "\n",
    "DATA_FILE_PATH = \"./clean_data.csv\""
   ]
  },
  {
   "cell_type": "code",
   "execution_count": 5,
   "id": "538658d9-a3eb-4fc6-8c30-2234d56ec627",
   "metadata": {},
   "outputs": [],
   "source": [
    "conn = sqlite3.connect(\"usa_pollution.db\")\n",
    "df = pd.read_csv(DATA_FILE_PATH)"
   ]
  },
  {
   "cell_type": "code",
   "execution_count": 7,
   "id": "69aed520-d18e-4d89-8046-4c372c3869ef",
   "metadata": {},
   "outputs": [
    {
     "data": {
      "text/plain": [
       "<sqlite3.Cursor at 0x1235bd3c9c0>"
      ]
     },
     "execution_count": 7,
     "metadata": {},
     "output_type": "execute_result"
    }
   ],
   "source": [
    "cursor = conn.cursor()\n",
    "\n",
    "# Create locations table\n",
    "cursor.execute('''\n",
    "    CREATE TABLE IF NOT EXISTS locations (\n",
    "        id INTEGER PRIMARY KEY AUTOINCREMENT,\n",
    "        state TEXT NOT NULL,\n",
    "        county TEXT NOT NULL,\n",
    "        city TEXT NOT NULL,\n",
    "        latitude REAL NOT NULL,\n",
    "        longitude REAL NOT NULL\n",
    "    )\n",
    "''')"
   ]
  },
  {
   "cell_type": "code",
   "execution_count": 9,
   "id": "5d1f5e7f-fef2-4560-b4bc-b85432d19b59",
   "metadata": {},
   "outputs": [
    {
     "data": {
      "text/plain": [
       "<sqlite3.Cursor at 0x1235bd3c9c0>"
      ]
     },
     "execution_count": 9,
     "metadata": {},
     "output_type": "execute_result"
    }
   ],
   "source": [
    "# Create pollutants table\n",
    "cursor.execute('''\n",
    "    CREATE TABLE IF NOT EXISTS pollutants (\n",
    "        id INTEGER PRIMARY KEY AUTOINCREMENT,\n",
    "        location_id INTEGER NOT NULL,\n",
    "        year INTEGER NOT NULL,\n",
    "        month INTEGER NOT NULL,\n",
    "        day INTEGER NOT NULL,\n",
    "        o3_mean REAL,\n",
    "        o3_max_value REAL,\n",
    "        o3_first_max_hour REAL,\n",
    "        o3_aqi REAL,\n",
    "        co_mean REAL,\n",
    "        co_max_value REAL,\n",
    "        co_first_max_hour REAL,\n",
    "        co_aqi REAL,\n",
    "        so2_mean REAL,\n",
    "        so2_max_value REAL,\n",
    "        so2_first_max_hour REAL,\n",
    "        so2_aqi REAL,\n",
    "        no2_mean REAL,\n",
    "        no2_max_value REAL,\n",
    "        no2_first_max_hour REAL,\n",
    "        no2_aqi REAL,\n",
    "        FOREIGN KEY(location_id) REFERENCES locations(id)\n",
    "    )\n",
    "''')"
   ]
  },
  {
   "cell_type": "code",
   "execution_count": 11,
   "id": "ae869bf2-594a-4b87-aad3-28c5d3872ed7",
   "metadata": {},
   "outputs": [],
   "source": [
    "conn.commit()"
   ]
  },
  {
   "cell_type": "code",
   "execution_count": 13,
   "id": "bf9cab24-99f6-4e11-8c86-7f631b318b2a",
   "metadata": {},
   "outputs": [],
   "source": [
    "cursor = conn.cursor()\n",
    "\n",
    "location_columns = [\"State\", \"County\", \"City\", \"Latitude\", \"Longitude\"]\n",
    "locations_df = df[location_columns].drop_duplicates().reset_index(drop=True)\n",
    "\n",
    "locations_df.to_sql(\"locations\", conn, if_exists=\"append\", index=False)\n",
    "\n",
    "location_query = \"SELECT id, state, county, city, latitude, longitude FROM locations\"\n",
    "location_df = pd.read_sql(location_query, conn)\n",
    "\n",
    "location_df.columns = ['id',\"State\", \"County\", \"City\", \"Latitude\", \"Longitude\"]\n",
    "\n",
    "df = df.merge(location_df, on=[\"State\", \"County\", \"City\", \"Latitude\", \"Longitude\"], how=\"left\")\n",
    "df.rename(columns={\"id\": \"location_id\"}, inplace=True)\n",
    "\n",
    "pollutant_columns = [\n",
    "    \"O3 Mean\", \"O3 1st Max Value\", \"O3 1st Max Hour\", \"O3 AQI\",\n",
    "    \"CO Mean\", \"CO 1st Max Value\", \"CO 1st Max Hour\", \"CO AQI\",\n",
    "    \"SO2 Mean\", \"SO2 1st Max Value\", \"SO2 1st Max Hour\", \"SO2 AQI\",\n",
    "    \"NO2 Mean\", \"NO2 1st Max Value\", \"NO2 1st Max Hour\", \"NO2 AQI\",\n",
    "    \"Year\", \"Month\", \"Day\", \"location_id\"\n",
    "]\n",
    "\n",
    "pollutants_df = df[pollutant_columns]\n",
    "\n",
    "pollutants_df.columns = [\n",
    "    \"o3_mean\", \"o3_max_value\", \"o3_first_max_hour\", \"o3_aqi\",\n",
    "    \"co_mean\", \"co_max_value\", \"co_first_max_hour\", \"co_aqi\",\n",
    "    \"so2_mean\", \"so2_max_value\", \"so2_first_max_hour\", \"so2_aqi\",\n",
    "    \"no2_mean\", \"no2_max_value\", \"no2_first_max_hour\", \"no2_aqi\",\n",
    "    \"year\", \"month\", \"day\", \"location_id\"\n",
    "]\n",
    "\n",
    "pollutants_df.to_sql(\"pollutants\", conn, if_exists=\"append\", index=False)"
   ]
  },
  {
   "cell_type": "code",
   "execution_count": null,
   "id": "c90962d7-150a-46af-9f78-968e86a96c6c",
   "metadata": {},
   "outputs": [],
   "source": [
    "# Example SQL Query: Average O3 AQI per State\n",
    "query = \"\"\"\n",
    "SELECT l.state, AVG(p.o3_aqi) as avg_o3_aqi\n",
    "FROM pollutants p\n",
    "JOIN locations l ON p.location_id = l.id\n",
    "GROUP BY l.state\n",
    "ORDER BY avg_o3_aqi DESC\n",
    "LIMIT 10;\n",
    "\"\"\""
   ]
  },
  {
   "cell_type": "code",
   "execution_count": null,
   "id": "d804cade-407d-4ee1-9185-206500c651d1",
   "metadata": {},
   "outputs": [],
   "source": [
    "# Execute the query and load the results into a Pandas DataFrame\n",
    "df_sql = pd.read_sql_query(query, conn)\n",
    "\n",
    "#Visualize the results\n",
    "plt.figure(figsize=(12, 6))\n",
    "plt.barh(df_sql[\"state\"], df_sql[\"avg_o3_aqi\"], color=\"skyblue\")\n",
    "plt.xlabel(\"Average O3 AQI\")\n",
    "plt.ylabel(\"State\")\n",
    "plt.title(\"Top 10 States with Highest Average O3 AQI\")\n",
    "plt.gca().invert_yaxis()  # Invert y-axis for better readability\n",
    "plt.show()"
   ]
  },
  {
   "cell_type": "code",
   "execution_count": null,
   "id": "7bf912b4-3f3d-480f-bd1d-24f6403cd4c6",
   "metadata": {},
   "outputs": [],
   "source": [
    "# SQL Query to fetch pollution data with latitude & longitude\n",
    "query = \"\"\"\n",
    "SELECT l.latitude, l.longitude, p.o3_aqi\n",
    "FROM pollutants p\n",
    "JOIN locations l ON p.location_id = l.id\n",
    "WHERE p.o3_aqi IS NOT NULL;\n",
    "\"\"\""
   ]
  },
  {
   "cell_type": "code",
   "execution_count": null,
   "id": "51eec8cf-6b65-47d7-8532-c8e476a54830",
   "metadata": {},
   "outputs": [],
   "source": [
    "# Execute the query and load data into Pandas DataFrame\n",
    "df_heatmap = pd.read_sql_query(query, conn)"
   ]
  },
  {
   "cell_type": "code",
   "execution_count": null,
   "id": "3dcc6761-8f9c-4c2e-9436-29874353a5c6",
   "metadata": {},
   "outputs": [],
   "source": [
    "# Create a base map centered in the USA\n",
    "m = folium.Map(location=[37.0902, -95.7129], zoom_start=5)\n",
    "\n",
    "# Add HeatMap layer\n",
    "heat_data = df_heatmap[[\"latitude\", \"longitude\", \"o3_aqi\"]].values.tolist()\n",
    "HeatMap(heat_data, radius=15, blur=25, max_zoom=1).add_to(m)\n",
    "\n",
    "# Display the map\n",
    "m"
   ]
  },
  {
   "cell_type": "code",
   "execution_count": null,
   "id": "dcc5177b-3cbe-44ba-b29b-9556548bad90",
   "metadata": {},
   "outputs": [],
   "source": [
    "conn.close()"
   ]
  }
 ],
 "metadata": {
  "kernelspec": {
   "display_name": "Python 3 (ipykernel)",
   "language": "python",
   "name": "python3"
  },
  "language_info": {
   "codemirror_mode": {
    "name": "ipython",
    "version": 3
   },
   "file_extension": ".py",
   "mimetype": "text/x-python",
   "name": "python",
   "nbconvert_exporter": "python",
   "pygments_lexer": "ipython3",
   "version": "3.12.4"
  }
 },
 "nbformat": 4,
 "nbformat_minor": 5
}
